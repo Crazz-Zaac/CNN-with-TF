{
 "cells": [
  {
   "cell_type": "code",
   "execution_count": 43,
   "id": "a09bc19b",
   "metadata": {},
   "outputs": [],
   "source": [
    "import numpy as np\n",
    "import matplotlib.pyplot as plt\n",
    "import tensorflow as tf\n",
    "from tensorflow.keras.datasets import mnist\n",
    "from tensorflow.keras import layers, models\n",
    "from keras.layers import Conv2D, MaxPooling2D, Dropout, Flatten, Dense"
   ]
  },
  {
   "cell_type": "code",
   "execution_count": 44,
   "id": "133c8504",
   "metadata": {},
   "outputs": [
    {
     "data": {
      "image/png": "[encoded data removed]",
      "text/plain": [
       "<Figure size 640x480 with 1 Axes>"
      ]
     },
     "metadata": {},
     "output_type": "display_data"
    }
   ],
   "source": [
    "(train_images, train_labels), (test_images, test_labels) = mnist.load_data()\n",
    "\n",
    "# random sample\n",
    "random_index = np.random.randint(0, len(train_images))\n",
    "random_image = train_images[random_index]\n",
    "random_label = train_labels[random_index]\n",
    "\n",
    "# Display the image and label\n",
    "plt.imshow(random_image, cmap='gray')\n",
    "plt.title(f\"Label: {random_label}\")\n",
    "plt.show()\n",
    "\n"
   ]
  },
  {
   "cell_type": "code",
   "execution_count": 45,
   "id": "3cbf4bc3",
   "metadata": {},
   "outputs": [
    {
     "name": "stdout",
     "output_type": "stream",
     "text": [
      "Five examples of activation functions:\n",
      "- ReLU (Rectified Linear Unit)\n",
      "- Sigmoid\n",
      "- Tanh\n",
      "- Softmax\n",
      "- Leaky ReLU\n"
     ]
    }
   ],
   "source": [
    "# Five examples of activation functions\n",
    "activation_functions = [\n",
    "    \"ReLU (Rectified Linear Unit)\",\n",
    "    \"Sigmoid\",\n",
    "    \"Tanh\",\n",
    "    \"Softmax\",\n",
    "    \"Leaky ReLU\"\n",
    "]\n",
    "\n",
    "print(\"Five examples of activation functions:\")\n",
    "for activation_function in activation_functions:\n",
    "    print(\"- \" + activation_function)"
   ]
  },
  {
   "cell_type": "markdown",
   "id": "b5c81416",
   "metadata": {},
   "source": [
    "### Bulding model using tf.keras.Sequential()"
   ]
  },
  {
   "cell_type": "code",
   "execution_count": 46,
   "id": "32cc97b2",
   "metadata": {},
   "outputs": [],
   "source": [
    "model = models.Sequential()\n",
    "\n",
    "# Layer 1: Conv3x3 & ReLU & MaxPooling\n",
    "model.add(layers.Conv2D(8, (3, 3), activation='relu', input_shape=(28, 28, 1)))\n",
    "model.add(layers.MaxPooling2D((2, 2)))\n",
    "\n",
    "# Layer 2: Conv3x3 & ReLU & MaxPooling\n",
    "model.add(layers.Conv2D(16, (3, 3), activation='relu'))\n",
    "model.add(layers.MaxPooling2D((2, 2)))\n",
    "\n",
    "# Layer 3: Conv3x3 & ReLU\n",
    "model.add(layers.Conv2D(32, (3, 3), activation='relu'))\n",
    "\n",
    "# Flattening the output\n",
    "model.add(layers.Flatten())\n",
    "\n",
    "# Layer 4: Dense & ReLU & Dropout(0.2)\n",
    "model.add(layers.Dense(128, activation='relu'))\n",
    "model.add(Dropout(0.2))\n",
    "\n",
    "# Layer 5: Dense & Softmax\n",
    "model.add(layers.Dense(10, activation='softmax'))"
   ]
  },
  {
   "cell_type": "code",
   "execution_count": 47,
   "id": "346fd3a7",
   "metadata": {},
   "outputs": [
    {
     "name": "stdout",
     "output_type": "stream",
     "text": [
      "Model: \"sequential_6\"\n",
      "_________________________________________________________________\n",
      " Layer (type)                Output Shape              Param #   \n",
      "=================================================================\n",
      " conv2d_18 (Conv2D)          (None, 26, 26, 8)         80        \n",
      "                                                                 \n",
      " max_pooling2d_12 (MaxPooli  (None, 13, 13, 8)         0         \n",
      " ng2D)                                                           \n",
      "                                                                 \n",
      " conv2d_19 (Conv2D)          (None, 11, 11, 16)        1168      \n",
      "                                                                 \n",
      " max_pooling2d_13 (MaxPooli  (None, 5, 5, 16)          0         \n",
      " ng2D)                                                           \n",
      "                                                                 \n",
      " conv2d_20 (Conv2D)          (None, 3, 3, 32)          4640      \n",
      "                                                                 \n",
      " flatten_5 (Flatten)         (None, 288)               0         \n",
      "                                                                 \n",
      " dense_7 (Dense)             (None, 128)               36992     \n",
      "                                                                 \n",
      " dropout_2 (Dropout)         (None, 128)               0         \n",
      "                                                                 \n",
      " dense_8 (Dense)             (None, 10)                1290      \n",
      "                                                                 \n",
      "=================================================================\n",
      "Total params: 44170 (172.54 KB)\n",
      "Trainable params: 44170 (172.54 KB)\n",
      "Non-trainable params: 0 (0.00 Byte)\n",
      "_________________________________________________________________\n"
     ]
    }
   ],
   "source": [
    "model.summary()"
   ]
  },
  {
   "cell_type": "code",
   "execution_count": 48,
   "id": "a68a1f37",
   "metadata": {},
   "outputs": [
    {
     "name": "stdout",
     "output_type": "stream",
     "text": [
      "Epoch 1/10\n",
      "1875/1875 [==============================] - 10s 4ms/step - loss: 0.4727 - acc: 0.8960 - val_loss: 0.1107 - val_acc: 0.9671\n",
      "Epoch 2/10\n",
      "1875/1875 [==============================] - 8s 4ms/step - loss: 0.1037 - acc: 0.9684 - val_loss: 0.0646 - val_acc: 0.9800\n",
      "Epoch 3/10\n",
      "1875/1875 [==============================] - 8s 4ms/step - loss: 0.0765 - acc: 0.9771 - val_loss: 0.0624 - val_acc: 0.9816\n",
      "Epoch 4/10\n",
      "1875/1875 [==============================] - 8s 4ms/step - loss: 0.0649 - acc: 0.9804 - val_loss: 0.0595 - val_acc: 0.9817\n",
      "Epoch 5/10\n",
      "1875/1875 [==============================] - 8s 4ms/step - loss: 0.0570 - acc: 0.9830 - val_loss: 0.0520 - val_acc: 0.9839\n",
      "Epoch 6/10\n",
      "1875/1875 [==============================] - 8s 4ms/step - loss: 0.0502 - acc: 0.9851 - val_loss: 0.0488 - val_acc: 0.9865\n",
      "Epoch 7/10\n",
      "1875/1875 [==============================] - 8s 4ms/step - loss: 0.0465 - acc: 0.9851 - val_loss: 0.0492 - val_acc: 0.9841\n",
      "Epoch 8/10\n",
      "1875/1875 [==============================] - 8s 4ms/step - loss: 0.0416 - acc: 0.9876 - val_loss: 0.0456 - val_acc: 0.9869\n",
      "Epoch 9/10\n",
      "1875/1875 [==============================] - 8s 4ms/step - loss: 0.0402 - acc: 0.9876 - val_loss: 0.0513 - val_acc: 0.9864\n",
      "Epoch 10/10\n",
      "1875/1875 [==============================] - 8s 4ms/step - loss: 0.0363 - acc: 0.9890 - val_loss: 0.0759 - val_acc: 0.9796\n"
     ]
    }
   ],
   "source": [
    "model.compile(optimizer='adam',\n",
    "              loss=tf.keras.losses.SparseCategoricalCrossentropy(from_logits=True),\n",
    "              metrics=['acc'])\n",
    "\n",
    "history = model.fit(train_images, train_labels, epochs=10, \n",
    "                    validation_data=(test_images, test_labels))"
   ]
  },
  {
   "cell_type": "code",
   "execution_count": null,
   "id": "11c76f90",
   "metadata": {},
   "outputs": [],
   "source": []
  },
  {
   "cell_type": "markdown",
   "id": "c50f8a6e",
   "metadata": {},
   "source": [
    "### Model Evaluation"
   ]
  },
  {
   "cell_type": "code",
   "execution_count": 49,
   "id": "0d2c30aa",
   "metadata": {},
   "outputs": [
    {
     "name": "stdout",
     "output_type": "stream",
     "text": [
      "313/313 - 1s - loss: 0.0759 - acc: 0.9796 - 561ms/epoch - 2ms/step\n"
     ]
    },
    {
     "data": {
      "image/png": "[encoded data removed]",
      "text/plain": [
       "<Figure size 640x480 with 1 Axes>"
      ]
     },
     "metadata": {},
     "output_type": "display_data"
    }
   ],
   "source": [
    "plt.plot(history.history['acc'], label='accuracy')\n",
    "plt.plot(history.history['val_acc'], label = 'val_accuracy')\n",
    "plt.xlabel('Epoch')\n",
    "plt.ylabel('Accuracy')\n",
    "plt.ylim([0.5, 1])\n",
    "plt.legend(loc='lower right')\n",
    "\n",
    "test_loss, test_acc = model.evaluate(test_images,  test_labels, verbose=2)"
   ]
  },
  {
   "cell_type": "code",
   "execution_count": 51,
   "id": "5b5a7e02",
   "metadata": {},
   "outputs": [
    {
     "name": "stdout",
     "output_type": "stream",
     "text": [
      "Accuracy:  0.9796000123023987\n"
     ]
    }
   ],
   "source": [
    "print(\"Accuracy: \",test_acc)"
   ]
  },
  {
   "cell_type": "code",
   "execution_count": null,
   "id": "5a16e491",
   "metadata": {},
   "outputs": [],
   "source": []
  }
 ],
 "metadata": {
  "kernelspec": {
   "display_name": "Python 3 (ipykernel)",
   "language": "python",
   "name": "python3"
  },
  "language_info": {
   "codemirror_mode": {
    "name": "ipython",
    "version": 3
   },
   "file_extension": ".py",
   "mimetype": "text/x-python",
   "name": "python",
   "nbconvert_exporter": "python",
   "pygments_lexer": "ipython3",
   "version": "3.11.5"
  }
 },
 "nbformat": 4,
 "nbformat_minor": 5
}
